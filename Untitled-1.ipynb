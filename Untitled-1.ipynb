{
 "cells": [
  {
   "cell_type": "markdown",
   "metadata": {},
   "source": [
    "# Applying CRISP-DM Methodology to the PuzzArm Project\n",
    "\n",
    "**Assessment Portfolio - Part 2**\n",
    "\n",
    "**Student Name:** [Your Name]  \n",
    "**Date:** [Date]  \n",
    "**Course:** AI Clustered Units (ICTAII501, ICTAII502)\n",
    "\n",
    "---\n",
    "\n",
    "## Document Purpose\n",
    "\n",
    "This notebook applies the Cross-Industry Standard Process for Data Mining (CRISP-DM) methodology to the PuzzArm project, structuring the AI/ML components across its six phases:\n",
    "\n",
    "1. Business Understanding\n",
    "2. Data Understanding\n",
    "3. Data Preparation\n",
    "4. Modeling\n",
    "5. Evaluation\n",
    "6. Deployment\n",
    "\n",
    "**Project Recap:** PuzzArm is an AI-powered robotic system using Jetson Nano and xArm1S to solve a number puzzle (0-9 pieces), with dual-arm teleop for data collection.\n",
    "\n",
    "**Iteration Note:** CRISP-DM is cyclical—after Deployment, loop back to Business Understanding for refinements."
   ]
  },
  {
   "cell_type": "markdown",
   "metadata": {},
   "source": [
    "## Setup and Imports"
   ]
  },
  {
   "cell_type": "code",
   "execution_count": null,
   "metadata": {},
   "outputs": [],
   "source": [
    "# Standard libraries\n",
    "import numpy as np\n",
    "import pandas as pd\n",
    "import matplotlib.pyplot as plt\n",
    "import seaborn as sns\n",
    "from pathlib import Path\n",
    "import json\n",
    "\n",
    "# Set plotting style\n",
    "sns.set_style('whitegrid')\n",
    "plt.rcParams['figure.figsize'] = (10, 6)\n",
    "\n",
    "# Display settings\n",
    "pd.set_option('display.max_columns', None)\n",
    "\n",
    "print(\"Libraries imported successfully!\")"
   ]
  },
  {
   "cell_type": "markdown",
   "metadata": {},
   "source": [
    "---\n",
    "\n",
    "# Phase 1: Business Understanding\n",
    "\n",
    "**Objective:** Define the problem, goals, and success criteria in business terms.\n",
    "\n",
    "**Mapping to Units:** ICTAII501 PC 1.1-1.2"
   ]
  },
  {
   "cell_type": "markdown",
   "metadata": {},
   "source": [
    "## 1.1 Business Problem Definition"
   ]
  },
  {
   "cell_type": "code",
   "execution_count": null,
   "metadata": {},
   "outputs": [],
   "source": [
    "# Business goals configuration\n",
    "business_goals = {\n",
    "    'automation_target': 0.80,\n",
    "    'time_saving_hours': 2,\n",
    "    'target_sessions_per_month': 10,\n",
    "    'current_manual_time_per_session': 3,\n",
    "    'target_automated_time': 1.5\n",
    "}\n",
    "\n",
    "time_saved_per_month = (business_goals['current_manual_time_per_session'] - \n",
    "                        business_goals['target_automated_time']) * business_goals['target_sessions_per_month']\n",
    "\n",
    "print(f\"Projected monthly time savings: {time_saved_per_month} hours\")\n",
    "print(f\"Automation target: {business_goals['automation_target']*100}%\")"
   ]
  },
  {
   "cell_type": "markdown",
   "metadata": {},
   "source": [
    "## 1.2 Data Mining Goals"
   ]
  },
  {
   "cell_type": "code",
   "execution_count": null,
   "metadata": {},
   "outputs": [],
   "source": [
    "# Define success metrics\n",
    "success_criteria = pd.DataFrame([\n",
    "    {'Metric': 'Detection Accuracy', 'Target': '90%', 'Priority': 'High'},\n",
    "    {'Metric': 'Pose Estimation Range', 'Target': '360°', 'Priority': 'High'},\n",
    "    {'Metric': 'Pick-Place Success', 'Target': '85%', 'Priority': 'Critical'},\n",
    "    {'Metric': 'Inference Time', 'Target': '<100ms', 'Priority': 'Medium'},\n",
    "    {'Metric': 'Total Solve Time', 'Target': '<5 min', 'Priority': 'High'}\n",
    "])\n",
    "\n",
    "print(success_criteria.to_string(index=False))"
   ]
  },
  {
   "cell_type": "markdown",
   "metadata": {},
   "source": [
    "## ✏️ Student Input: Your Business Context\n",
    "\n",
    "**Instructions:** Describe how your image identifier addresses a specific business need."
   ]
  },
  {
   "cell_type": "markdown",
   "metadata": {},
   "source": [
    "[Write your business understanding here]"
   ]
  },
  {
   "cell_type": "markdown",
   "metadata": {},
   "source": [
    "---\n",
    "\n",
    "# Phase 2: Data Understanding\n",
    "\n",
    "**Objective:** Collect initial data, explore it, and identify quality issues.\n",
    "\n",
    "**Mapping to Units:** ICTAII502 PC 1.1-1.6"
   ]
  },
  {
   "cell_type": "code",
   "execution_count": null,
   "metadata": {},
   "outputs": [],
   "source": [
    "# Example: Class distribution (replace with your actual data)\n",
    "classes = ['0', '1', '2', '3', '4', '5', '6', '7', '8', '9']\n",
    "sample_counts = [520, 510, 515, 505, 512, 518, 508, 515, 510, 507]\n",
    "\n",
    "fig, (ax1, ax2) = plt.subplots(1, 2, figsize=(14, 5))\n",
    "\n",
    "ax1.bar(classes, sample_counts, color='steelblue', alpha=0.7)\n",
    "ax1.set_xlabel('Puzzle Piece Class')\n",
    "ax1.set_ylabel('Number of Samples')\n",
    "ax1.set_title('Class Distribution')\n",
    "ax1.axhline(y=np.mean(sample_counts), color='r', linestyle='--', label=f'Mean: {np.mean(sample_counts):.0f}')\n",
    "ax1.legend()\n",
    "\n",
    "ax2.pie(sample_counts, labels=classes, autopct='%1.1f%%', startangle=90)\n",
    "ax2.set_title('Class Distribution %')\n",
    "\n",
    "plt.tight_layout()\n",
    "plt.show()"
   ]
  },
  {
   "cell_type": "markdown",
   "metadata": {},
   "source": [
    "## ✏️ Student Input: Your Data Exploration"
   ]
  },
  {
   "cell_type": "markdown",
   "metadata": {},
   "source": [
    "[Write your data exploration findings here]"
   ]
  },
  {
   "cell_type": "code",
   "execution_count": null,
   "metadata": {},
   "outputs": [],
   "source": [
    "# Your exploration code here"
   ]
  },
  {
   "cell_type": "markdown",
   "metadata": {},
   "source": [
    "---\n",
    "\n",
    "# Phase 3: Data Preparation\n",
    "\n",
    "**Objective:** Clean, transform, and construct the final dataset.\n",
    "\n",
    "**Mapping to Units:** ICTAII502 PC 2.1-2.4"
   ]
  },
  {
   "cell_type": "code",
   "execution_count": null,
   "metadata": {},
   "outputs": [],
   "source": [
    "# Dataset split\n",
    "total_samples = 5000\n",
    "train_count = int(total_samples * 0.70)\n",
    "val_count = int(total_samples * 0.20)\n",
    "test_count = total_samples - train_count - val_count\n",
    "\n",
    "split_df = pd.DataFrame({\n",
    "    'Set': ['Training', 'Validation', 'Test'],\n",
    "    'Samples': [train_count, val_count, test_count],\n",
    "    'Percentage': [70, 20, 10]\n",
    "})\n",
    "\n",
    "print(split_df.to_string(index=False))\n",
    "\n",
    "plt.figure(figsize=(8, 8))\n",
    "plt.pie([train_count, val_count, test_count], \n",
    "        labels=['Training', 'Validation', 'Test'],\n",
    "        autopct='%1.1f%%',\n",
    "        colors=['#3498db', '#e74c3c', '#2ecc71'],\n",
    "        explode=(0.05, 0.05, 0.05))\n",
    "plt.title('Dataset Split')\n",
    "plt.show()"
   ]
  },
  {
   "cell_type": "markdown",
   "metadata": {},
   "source": [
    "## ✏️ Student Input: Your Data Preparation"
   ]
  },
  {
   "cell_type": "markdown",
   "metadata": {},
   "source": [
    "[Write your data preparation steps here]"
   ]
  },
  {
   "cell_type": "markdown",
   "metadata": {},
   "source": [
    "---\n",
    "\n",
    "# Phase 4: Modeling\n",
    "\n",
    "**Objective:** Select and apply ML techniques, tuning parameters.\n",
    "\n",
    "**Mapping to Units:** ICTAII502 PC 3.1-3.5"
   ]
  },
  {
   "cell_type": "code",
   "execution_count": null,
   "metadata": {},
   "outputs": [],
   "source": [
    "# Simulated training history\n",
    "epochs = np.arange(1, 51)\n",
    "train_loss = 2.5 * np.exp(-0.05 * epochs) + np.random.normal(0, 0.05, 50)\n",
    "val_loss = 2.8 * np.exp(-0.045 * epochs) + np.random.normal(0, 0.08, 50)\n",
    "train_acc = 1 - 0.9 * np.exp(-0.06 * epochs) + np.random.normal(0, 0.01, 50)\n",
    "val_acc = 1 - 0.9 * np.exp(-0.055 * epochs) + np.random.normal(0, 0.015, 50)\n",
    "\n",
    "fig, (ax1, ax2) = plt.subplots(1, 2, figsize=(14, 5))\n",
    "\n",
    "ax1.plot(epochs, train_loss, label='Train Loss', linewidth=2)\n",
    "ax1.plot(epochs, val_loss, label='Val Loss', linewidth=2)\n",
    "ax1.set_xlabel('Epoch')\n",
    "ax1.set_ylabel('Loss')\n",
    "ax1.set_title('Training Loss')\n",
    "ax1.legend()\n",
    "ax1.grid(alpha=0.3)\n",
    "\n",
    "ax2.plot(epochs, train_acc * 100, label='Train Acc', linewidth=2)\n",
    "ax2.plot(epochs, val_acc * 100, label='Val Acc', linewidth=2)\n",
    "ax2.axhline(y=90, color='r', linestyle='--', label='Target')\n",
    "ax2.set_xlabel('Epoch')\n",
    "ax2.set_ylabel('Accuracy (%)')\n",
    "ax2.set_title('Training Accuracy')\n",
    "ax2.legend()\n",
    "ax2.grid(alpha=0.3)\n",
    "\n",
    "plt.tight_layout()\n",
    "plt.show()"
   ]
  },
  {
   "cell_type": "markdown",
   "metadata": {},
   "source": [
    "## ✏️ Student Input: Your Model Building"
   ]
  },
  {
   "cell_type": "markdown",
   "metadata": {},
   "source": [
    "[Write your model building experience here]"
   ]
  },
  {
   "cell_type": "markdown",
   "metadata": {},
   "source": [
    "---\n",
    "\n",
    "# Phase 5: Evaluation\n",
    "\n",
    "**Objective:** Assess model performance against business goals.\n",
    "\n",
    "**Mapping to Units:** ICTAII502 PC 5.1-5.6; ICTAII501 PC 3"
   ]
  },
  {
   "cell_type": "code",
   "execution_count": null,
   "metadata": {},
   "outputs": [],
   "source": [
    "# Confusion matrix\n",
    "from sklearn.metrics import confusion_matrix\n",
    "\n",
    "np.random.seed(42)\n",
    "n_samples = 500\n",
    "y_true = np.random.randint(0, 10, n_samples)\n",
    "y_pred = y_true.copy()\n",
    "error_indices = np.random.choice(n_samples, size=int(n_samples * 0.08), replace=False)\n",
    "y_pred[error_indices] = np.random.randint(0, 10, len(error_indices))\n",
    "\n",
    "cm = confusion_matrix(y_true, y_pred)\n",
    "\n",
    "plt.figure(figsize=(10, 8))\n",
    "sns.heatmap(cm, annot=True, fmt='d', cmap='Blues', \n",
    "            xticklabels=classes, yticklabels=classes)\n",
    "plt.xlabel('Predicted')\n",
    "plt.ylabel('True')\n",
    "plt.title('Confusion Matrix')\n",
    "plt.tight_layout()\n",
    "plt.show()\n",
    "\n",
    "accuracy = np.trace(cm) / np.sum(cm)\n",
    "print(f\"Overall Accuracy: {accuracy*100:.2f}%\")"
   ]
  },
  {
   "cell_type": "markdown",
   "metadata": {},
   "source": [
    "## ✏️ Student Input: Your Evaluation Results"
   ]
  },
  {
   "cell_type": "markdown",
   "metadata": {},
   "source": [
    "[Write your evaluation findings here]"
   ]
  },
  {
   "cell_type": "markdown",
   "metadata": {},
   "source": [
    "---\n",
    "\n",
    "# Phase 6: Deployment\n",
    "\n",
    "**Objective:** Plan rollout, monitoring, and maintenance.\n",
    "\n",
    "**Mapping to Units:** ICTAII501 PC 2; ICTAII502 PC 4.1-4.5"
   ]
  },
  {
   "cell_type": "code",
   "execution_count": null,
   "metadata": {},
   "outputs": [],
   "source": [
    "# Example ROS2 integration\n",
    "deployment_code = '''\n",
    "#!/usr/bin/env python3\n",
    "import rclpy\n",
    "from rclpy.node import Node\n",
    "from sensor_msgs.msg import Image\n",
    "\n",
    "class PuzzleDetectorNode(Node):\n",
    "    def __init__(self):\n",
    "        super().__init__('puzzle_detector')\n",
    "        self.subscription = self.create_subscription(\n",
    "            Image, '/camera/image_raw', \n",
    "            self.image_callback, 10)\n",
    "    \n",
    "    def image_callback(self, msg):\n",
    "        # Run inference\n",
    "        pass\n",
    "'''\n",
    "\n",
    "print(\"Example ROS2 Node:\")\n",
    "print(deployment_code)"
   ]
  },
  {
   "cell_type": "markdown",
   "metadata": {},
   "source": [
    "## ✏️ Student Input: Your Deployment Plan"
   ]
  },
  {
   "cell_type": "markdown",
   "metadata": {},
   "source": [
    "[Write your deployment experience here]"
   ]
  },
  {
   "cell_type": "markdown",
   "metadata": {},
   "source": [
    "---\n",
    "\n",
    "# Overall Reflection\n",
    "\n",
    "## CRISP-DM Cycle Visualization"
   ]
  },
  {
   "cell_type": "code",
   "execution_count": null,
   "metadata": {},
   "outputs": [],
   "source": [
    "# Visualize CRISP-DM cycle\n",
    "fig, ax = plt.subplots(figsize=(10, 10))\n",
    "\n",
    "phases_circle = ['Business\\nUnderstanding', 'Data\\nUnderstanding', 'Data\\nPreparation', \n",
    "                 'Modeling', 'Evaluation', 'Deployment']\n",
    "n_phases = len(phases_circle)\n",
    "angles = np.linspace(0, 2*np.pi, n_phases, endpoint=False)\n",
    "\n",
    "radius = 1\n",
    "x = radius * np.cos(angles)\n",
    "y = radius * np.sin(angles)\n",
    "\n",
    "# Draw connections\n",
    "for i in range(n_phases):\n",
    "    next_i = (i + 1) % n_phases\n",
    "    ax.annotate('', xy=(x[next_i], y[next_i]), xytext=(x[i], y[i]),\n",
    "                arrowprops=dict(arrowstyle='->', lw=2, color='#3498db'))\n",
    "\n",
    "# Draw center\n",
    "ax.add_patch(plt.Circle((0, 0), 0.2, color='#e74c3c', alpha=0.7))\n",
    "ax.text(0, 0, 'Data', ha='center', va='center', fontsize=12, fontweight='bold', color='white')\n",
    "\n",
    "# Draw phase nodes\n",
    "for i, (phase, angle, xi, yi) in enumerate(zip(phases_circle, angles, x, y)):\n",
    "    ax.add_patch(plt.Circle((xi, yi), 0.15, color='#2ecc71', alpha=0.7))\n",
    "    text_offset = 0.35\n",
    "    text_x = (radius + text_offset) * np.cos(angle)\n",
    "    text_y = (radius + text_offset) * np.sin(angle)\n",
    "    ax.text(text_x, text_y, phase, ha='center', va='center', fontsize=10, fontweight='bold')\n",
    "\n",
    "ax.set_xlim(-1.8, 1.8)\n",
    "ax.set_ylim(-1.8, 1.8)\n",
    "ax.set_aspect('equal')\n",
    "ax.axis('off')\n",
    "ax.set_title('CRISP-DM Iterative Cycle', fontsize=14, fontweight='bold', pad=20)\n",
    "\n",
    "plt.tight_layout()\n",
    "plt.show()"
   ]
  },
  {
   "cell_type": "markdown",
   "metadata": {},
   "source": [
    "## ✏️ Student Reflection (200+ words)\n",
    "\n",
    "**Instructions:** Reflect on how CRISP-DM guided your work. Address:\n",
    "- How did CRISP-DM help structure your work?\n",
    "- What challenges did you face in each phase?\n",
    "- How did the iterative nature help?\n",
    "- What would you do differently next time?"
   ]
  },
  {
   "cell_type": "markdown",
   "metadata": {},
   "source": [
    "[Write your 200+ word reflection here]\n",
    "\n",
    "**Word Count:** [Your count]"
   ]
  },
  {
   "cell_type": "markdown",
   "metadata": {},
   "source": [
    "## Competency Mapping Summary"
   ]
  },
  {
   "cell_type": "code",
   "execution_count": null,
   "metadata": {},
   "outputs": [],
   "source": [
    "# Competency mapping\n",
    "competency_mapping = pd.DataFrame([\n",
    "    {'Unit': 'ICTAII501', 'Element': 'PC 1.1-1.2', 'Evidence': 'Phase 1', 'Status': '✓'},\n",
    "    {'Unit': 'ICTAII501', 'Element': 'PC 2', 'Evidence': 'Phase 4 & 6', 'Status': '✓'},\n",
    "    {'Unit': 'ICTAII501', 'Element': 'PC 3', 'Evidence': 'Phase 5', 'Status': '✓'},\n",
    "    {'Unit': 'ICTAII502', 'Element': 'PC 1.1-1.6', 'Evidence': 'Phase 2', 'Status': '✓'},\n",
    "    {'Unit': 'ICTAII502', 'Element': 'PC 2.1-2.4', 'Evidence': 'Phase 3', 'Status': '✓'},\n",
    "    {'Unit': 'ICTAII502', 'Element': 'PC 3.1-3.5', 'Evidence': 'Phase 4', 'Status': '✓'},\n",
    "    {'Unit': 'ICTAII502', 'Element': 'PC 4.1-4.5', 'Evidence': 'Phase 6', 'Status': '✓'},\n",
    "    {'Unit': 'ICTAII502', 'Element': 'PC 5.1-5.6', 'Evidence': 'Phase 5', 'Status': '✓'}\n",
    "])\n",
    "\n",
    "print(\"Competency Mapping:\")\n",
    "print(competency_mapping.to_string(index=False))\n",
    "\n",
    "completed = len(competency_mapping)\n",
    "print(f\"\\nCompletion: {completed}/{completed} criteria addressed (100%)\")"
   ]
  },
  {
   "cell_type": "markdown",
   "metadata": {},
   "source": [
    "---\n",
    "\n",
    "# Portfolio Declaration\n",
    "\n",
    "I declare that:\n",
    "- This portfolio reflects my own work on the PuzzArm project\n",
    "- All code, analysis, and reflections are my original work\n",
    "- I have properly cited any external sources\n",
    "- The evidence demonstrates competency in ICTAII501 and ICTAII502\n",
    "\n",
    "**Student Name:** [Your Name]  \n",
    "**Student ID:** [Your ID]  \n",
    "**Date:** [Date]  \n",
    "**Signature:** [Your Signature]\n",
    "\n",
    "---\n",
    "\n",
    "## Assessor Section\n",
    "\n",
    "**Assessor Name:** ________________  \n",
    "**Date:** ________________  \n",
    "\n",
    "### Competency Checklist:\n",
    "\n",
    "**ICTAII501:**\n",
    "- [ ] PC 1.1-1.2: Business understanding\n",
    "- [ ] PC 2: Solution design\n",
    "- [ ] PC 3: Documentation\n",
    "\n",
    "**ICTAII502:**\n",
    "- [ ] PC 1.1-1.6: Data analysis\n",
    "- [ ] PC 2.1-2.4: Feature engineering\n",
    "- [ ] PC 3.1-3.5: Model building\n",
    "- [ ] PC 4.1-4.5: Testing\n",
    "- [ ] PC 5.1-5.6: Evaluation\n",
    "\n",
    "**Overall:** [ ] Competent  [ ] Not Yet Competent\n",
    "\n",
    "**Feedback:**\n",
    "\n",
    "[Assessor comments]\n",
    "\n",
    "---\n",
    "\n",
    "## Submission Checklist\n",
    "\n",
    "- [ ] All student input sections completed\n",
    "- [ ] Actual data from Part 1 included\n",
    "- [ ] All visualizations generated\n",
    "- [ ] Reflection written (200+ words)\n",
    "- [ ] Metrics tables filled\n",
    "- [ ] Code examples included\n",
    "- [ ] Declaration signed\n",
    "- [ ] Exported to PDF/HTML\n",
    "- [ ] Supporting files included\n",
    "\n",
    "---\n",
    "\n",
    "# End of Portfolio\n",
    "\n",
    "**Thank you for completing this CRISP-DM assessment!** 🤖🧩\n",
    "\n",
    "Remember: CRISP-DM is iterative—use insights from this iteration to improve your next version!"
   ]
  }
 ],
 "metadata": {
  "kernelspec": {
   "display_name": "Python 3",
   "language": "python",
   "name": "python3"
  },
  "language_info": {
   "codemirror_mode": {
    "name": "ipython",
    "version": 3
   },
   "file_extension": ".py",
   "mimetype": "text/x-python",
   "name": "python",
   "nbconvert_exporter": "python",
   "pygments_lexer": "ipython3",
   "version": "3.8.10"
  }
 },
 "nbformat": 4,
 "nbformat_minor": 4
}
